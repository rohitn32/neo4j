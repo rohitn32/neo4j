{
 "cells": [
  {
   "cell_type": "code",
   "execution_count": 3,
   "id": "c4ece299",
   "metadata": {},
   "outputs": [],
   "source": [
    "#import packages\n",
    "from neo4j import GraphDatabase"
   ]
  },
  {
   "cell_type": "code",
   "execution_count": 4,
   "id": "95a7eff6",
   "metadata": {},
   "outputs": [],
   "source": [
    "uri=\"bolt://localhost:7687\"#local host"
   ]
  },
  {
   "cell_type": "code",
   "execution_count": 5,
   "id": "5a63c77c",
   "metadata": {},
   "outputs": [],
   "source": [
    "#create driver and databse"
   ]
  },
  {
   "cell_type": "code",
   "execution_count": 6,
   "id": "835a9514",
   "metadata": {},
   "outputs": [],
   "source": [
    "driver = GraphDatabase.driver(uri, auth=(\"neo4j\", \"12345678\"))"
   ]
  },
  {
   "cell_type": "code",
   "execution_count": 7,
   "id": "3d2b3259",
   "metadata": {},
   "outputs": [],
   "source": [
    "session=driver.session() #create session"
   ]
  },
  {
   "cell_type": "code",
   "execution_count": 6,
   "id": "3fcbf729",
   "metadata": {},
   "outputs": [],
   "source": [
    "#create nodes for both employee and department"
   ]
  },
  {
   "cell_type": "code",
   "execution_count": 7,
   "id": "d2e37852",
   "metadata": {},
   "outputs": [
    {
     "data": {
      "text/plain": [
       "<neo4j._sync.work.result.Result at 0x20d8068efd0>"
      ]
     },
     "execution_count": 7,
     "metadata": {},
     "output_type": "execute_result"
    }
   ],
   "source": [
    "session.run(\"CREATE(E:EMPOLYEE{ID:1,NAME:'ROHIT'})\")\n",
    "session.run(\"CREATE(E:EMPOLYEE{ID:2,NAME:'RAHUL'})\")\n",
    "session.run(\"CREATE(E:EMPOLYEE{ID:3,NAME:'SHIVA'})\")\n",
    "session.run(\"CREATE(D:DEPARTMENT{DEPID:100,DEPNAME:'C'})\")\n",
    "session.run(\"CREATE(D:DEPARTMENT{DEPID:101,DEPNAME:'JAVA'})\")\n",
    "session.run(\"CREATE(D:DEPARTMENT{DEPID:102,DEPNAME:'PYTHON'})\")\n",
    "\n",
    "\n"
   ]
  },
  {
   "cell_type": "code",
   "execution_count": 8,
   "id": "3e0296a5",
   "metadata": {},
   "outputs": [],
   "source": [
    "#create realtionship between their employee and their departments"
   ]
  },
  {
   "cell_type": "code",
   "execution_count": 11,
   "id": "6f22606c",
   "metadata": {},
   "outputs": [
    {
     "data": {
      "text/plain": [
       "<neo4j._sync.work.result.Result at 0x20d823b4550>"
      ]
     },
     "execution_count": 11,
     "metadata": {},
     "output_type": "execute_result"
    }
   ],
   "source": [
    "session.run(\"\"\"\n",
    "    MATCH (E:EMPOLYEE {NAME: 'ROHIT'}), (D:DEPARTMENT {DEPNAME :'C'})\n",
    "    CREATE (E)-[:WORKS_IN]->(D)\n",
    "\"\"\")\n",
    "session.run(\"\"\"\n",
    "    MATCH (E:EMPOLYEE {NAME: 'RAHUL'}), (D:DEPARTMENT {DEPNAME :'JAVA'})\n",
    "    CREATE (E)-[:WORKS_IN]->(D)\n",
    "\"\"\")\n",
    "session.run(\"\"\"\n",
    "    MATCH (E:EMPOLYEE{NAME: 'SHIVA'}), (D:DEPARTMENT {DEPNAME:'PYTHON'})\n",
    "    CREATE (E)-[:WORKS_IN]->(D)\n",
    "\"\"\")"
   ]
  },
  {
   "cell_type": "code",
   "execution_count": null,
   "id": "0a61bf19",
   "metadata": {},
   "outputs": [],
   "source": [
    "# Retrieve all employees in a specific department"
   ]
  },
  {
   "cell_type": "code",
   "execution_count": 9,
   "id": "aec1e6df",
   "metadata": {},
   "outputs": [],
   "source": [
    "result = session.run(\"MATCH (E:EMPOLYEE)-[:WORKS_IN]->(D:DEPARTMENT {NAME: 'PYTHON'}) RETURN E.NAME\")\n",
    "for record in result:\n",
    "    print(record[\"E.NAME\"])\n",
    "   \n",
    "    \n",
    "   "
   ]
  },
  {
   "cell_type": "code",
   "execution_count": null,
   "id": "ac9ec65a",
   "metadata": {},
   "outputs": [],
   "source": [
    "#update department name"
   ]
  },
  {
   "cell_type": "code",
   "execution_count": 28,
   "id": "02a1ad3c",
   "metadata": {},
   "outputs": [
    {
     "data": {
      "text/plain": [
       "<neo4j._sync.work.result.Result at 0x20d823d6150>"
      ]
     },
     "execution_count": 28,
     "metadata": {},
     "output_type": "execute_result"
    }
   ],
   "source": [
    " session.run(\"MATCH (D:DEPARTMENT {DEPNAME: 'C'}) SET D.DEPNAME = 'RUBY'\")"
   ]
  },
  {
   "cell_type": "code",
   "execution_count": null,
   "id": "615ff331",
   "metadata": {},
   "outputs": [],
   "source": [
    "# Remove an employee from the graph"
   ]
  },
  {
   "cell_type": "code",
   "execution_count": 30,
   "id": "382e4568",
   "metadata": {},
   "outputs": [
    {
     "data": {
      "text/plain": [
       "<neo4j._sync.work.result.Result at 0x20d8241e050>"
      ]
     },
     "execution_count": 30,
     "metadata": {},
     "output_type": "execute_result"
    }
   ],
   "source": [
    "session.run(\"MATCH (E:EMPOLYEE {NAME: 'ROHIT'}) DETACH DELETE E\")"
   ]
  },
  {
   "cell_type": "code",
   "execution_count": null,
   "id": "aad0496d",
   "metadata": {},
   "outputs": [],
   "source": []
  }
 ],
 "metadata": {
  "kernelspec": {
   "display_name": "Python 3 (ipykernel)",
   "language": "python",
   "name": "python3"
  },
  "language_info": {
   "codemirror_mode": {
    "name": "ipython",
    "version": 3
   },
   "file_extension": ".py",
   "mimetype": "text/x-python",
   "name": "python",
   "nbconvert_exporter": "python",
   "pygments_lexer": "ipython3",
   "version": "3.11.5"
  }
 },
 "nbformat": 4,
 "nbformat_minor": 5
}
